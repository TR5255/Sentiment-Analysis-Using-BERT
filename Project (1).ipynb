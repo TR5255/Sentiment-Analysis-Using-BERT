{
  "nbformat": 4,
  "nbformat_minor": 0,
  "metadata": {
    "colab": {
      "provenance": []
    },
    "kernelspec": {
      "name": "python3",
      "display_name": "Python 3"
    },
    "language_info": {
      "name": "python"
    }
  },
  "cells": [
    {
      "cell_type": "code",
      "execution_count": null,
      "metadata": {
        "id": "4ZKVIZMRHnnv"
      },
      "outputs": [],
      "source": [
        "!pip install transformers evaluate"
      ]
    },
    {
      "cell_type": "code",
      "source": [
        "import pandas as pd\n",
        "from tqdm import tqdm\n",
        "\n",
        "data = pd.read_csv('/content/all-data.csv', encoding='latin-1', header=None)\n",
        "data.columns = [\"labels\", \"text\"]\n",
        "data"
      ],
      "metadata": {
        "id": "TAkotuxoHzed"
      },
      "execution_count": null,
      "outputs": []
    },
    {
      "cell_type": "code",
      "source": [
        "from transformers import AutoTokenizer\n",
        "from sklearn.model_selection import train_test_split\n",
        "from transformers import DataCollatorWithPadding\n",
        "import evaluate\n",
        "import numpy as np\n",
        "from transformers import AutoModelForSequenceClassification, TrainingArguments, Trainer\n",
        "import torch"
      ],
      "metadata": {
        "id": "fH6i1OyNIaCt"
      },
      "execution_count": null,
      "outputs": []
    },
    {
      "cell_type": "code",
      "source": [
        "accuracy = evaluate.load(\"accuracy\")\n",
        "\n",
        "tokenizer = AutoTokenizer.from_pretrained(\"ProsusAI/finbert\")\n",
        "model = AutoModelForSequenceClassification.from_pretrained(\n",
        "    \"ProsusAI/finbert\", num_labels=3, # id2label=id2label, label2id=label2id\n",
        ")\n",
        "data_collator = DataCollatorWithPadding(tokenizer=tokenizer)"
      ],
      "metadata": {
        "id": "ndtyjmfHOTo0"
      },
      "execution_count": null,
      "outputs": []
    },
    {
      "cell_type": "code",
      "source": [
        "def preprocess_function(examples):\n",
        "    return tokenizer(examples, truncation=True)\n",
        "\n",
        "texts = data[\"text\"].to_list()\n",
        "labels = data[\"labels\"].to_list()\n",
        "text_train, text_test, labels_train, labels_test = train_test_split(\n",
        "    texts, labels, test_size=0.25, random_state=42,\n",
        ")\n",
        "tokenized_text_train = preprocess_function(text_train)\n",
        "tokenized_text_test = preprocess_function(text_test)\n",
        "\n",
        "print(\"train size:\", len(labels_train))\n",
        "print(\"test size:\", len(labels_test))"
      ],
      "metadata": {
        "id": "2tZ8BjX2OmmO"
      },
      "execution_count": null,
      "outputs": []
    },
    {
      "cell_type": "code",
      "source": [
        "def compute_metrics(eval_pred):\n",
        "    predictions, labels = eval_pred\n",
        "    predictions = np.argmax(predictions, axis=1)\n",
        "    return accuracy.compute(predictions=predictions, references=labels)\n",
        "\n",
        "id2label = {0: \"positive\", 1: \"neutral\", 2: \"negative\"}\n",
        "label2id = {\"positive\": 0, \"neutral\": 1, \"negative\": 2}\n",
        "\n",
        "class BertDataset(torch.utils.data.Dataset):\n",
        "    def __init__(self, encodings, labels, label2id):\n",
        "        self.encodings = encodings\n",
        "        self.labels = [label2id[value] for value in labels]\n",
        "    def __getitem__(self, idx):\n",
        "        item = {key: torch.tensor(val[idx]) for key, val in self.encodings.items()}\n",
        "        item['labels'] = torch.tensor(self.labels[idx])\n",
        "        return item\n",
        "\n",
        "    def __len__(self):\n",
        "        return len(self.labels)\n",
        "\n",
        "train_dataset = BertDataset(tokenized_text_train, labels_train, label2id)\n",
        "test_dataset = BertDataset(tokenized_text_test, labels_test, label2id)"
      ],
      "metadata": {
        "id": "_l20uizyOrh9"
      },
      "execution_count": null,
      "outputs": []
    },
    {
      "cell_type": "code",
      "source": [
        "from transformers import AutoTokenizer\n",
        "from sklearn.model_selection import train_test_split\n",
        "from transformers import DataCollatorWithPadding\n",
        "import evaluate\n",
        "import numpy as np\n",
        "from transformers import AutoModelForSequenceClassification, TrainingArguments, Trainer\n",
        "import torch\n",
        "\n",
        "accuracy = evaluate.load(\"accuracy\")\n",
        "\n",
        "tokenizer = AutoTokenizer.from_pretrained(\"ProsusAI/finbert\")\n",
        "model = AutoModelForSequenceClassification.from_pretrained(\n",
        "    \"ProsusAI/finbert\", num_labels=3, # id2label=id2label, label2id=label2id\n",
        ")\n",
        "data_collator = DataCollatorWithPadding(tokenizer=tokenizer)\n",
        "\n",
        "def preprocess_function(examples):\n",
        "    return tokenizer(examples, truncation=True)\n",
        "\n",
        "texts = data[\"text\"].to_list()\n",
        "labels = data[\"labels\"].to_list()\n",
        "text_train, text_test, labels_train, labels_test = train_test_split(\n",
        "    texts, labels, test_size=0.25, random_state=42,\n",
        ")\n",
        "tokenized_text_train = preprocess_function(text_train)\n",
        "tokenized_text_test = preprocess_function(text_test)\n",
        "\n",
        "print(\"train size:\", len(labels_train))\n",
        "print(\"test size:\", len(labels_test))\n",
        "\n",
        "\n",
        "def compute_metrics(eval_pred):\n",
        "    predictions, labels = eval_pred\n",
        "    predictions = np.argmax(predictions, axis=1)\n",
        "    return accuracy.compute(predictions=predictions, references=labels)\n",
        "\n",
        "id2label = {0: \"positive\", 1: \"neutral\", 2: \"negative\"}\n",
        "label2id = {\"positive\": 0, \"neutral\": 1, \"negative\": 2}\n",
        "\n",
        "class BertDataset(torch.utils.data.Dataset):\n",
        "    def __init__(self, encodings, labels, label2id):\n",
        "        self.encodings = encodings\n",
        "        self.labels = [label2id[value] for value in labels]\n",
        "\n",
        "    def __getitem__(self, idx):\n",
        "        item = {key: torch.tensor(val[idx]) for key, val in self.encodings.items()}\n",
        "        item['labels'] = torch.tensor(self.labels[idx])\n",
        "        return item\n",
        "\n",
        "    def __len__(self):\n",
        "        return len(self.labels)\n",
        "\n",
        "train_dataset = BertDataset(tokenized_text_train, labels_train, label2id)\n",
        "test_dataset = BertDataset(tokenized_text_test, labels_test, label2id)"
      ],
      "metadata": {
        "id": "5HuRLDqxO29C"
      },
      "execution_count": null,
      "outputs": []
    },
    {
      "cell_type": "code",
      "source": [
        "training_args = TrainingArguments(\n",
        "    output_dir=\"my_awesome_model\",\n",
        "    learning_rate=2e-5,\n",
        "    per_device_train_batch_size=16,\n",
        "    per_device_eval_batch_size=16,\n",
        "    num_train_epochs=2,\n",
        "    weight_decay=0.01,\n",
        "    evaluation_strategy=\"epoch\",\n",
        "    save_strategy=\"epoch\",\n",
        "    load_best_model_at_end=True,\n",
        "    push_to_hub=False,\n",
        "    report_to=\"none\"\n",
        ")\n",
        "\n",
        "trainer = Trainer(\n",
        "    model=model,\n",
        "    args=training_args,\n",
        "    train_dataset=train_dataset,\n",
        "    eval_dataset=test_dataset,\n",
        "    tokenizer=tokenizer,\n",
        "    data_collator=data_collator,\n",
        "    compute_metrics=compute_metrics,\n",
        ")\n",
        "trainer.train()\n",
        "model = trainer.model"
      ],
      "metadata": {
        "id": "qnMeObkvPEFb"
      },
      "execution_count": null,
      "outputs": []
    },
    {
      "cell_type": "code",
      "source": [
        "train_preds = []\n",
        "for text in tqdm(text_train):\n",
        "    inputs = tokenizer(text, return_tensors=\"pt\")\n",
        "    logits = model(**inputs)\n",
        "    predicted_class_id = logits.logits.argmax().item()\n",
        "    train_preds.append(id2label[predicted_class_id])\n",
        "\n",
        "test_preds = []\n",
        "for text in tqdm(text_test):\n",
        "    inputs = tokenizer(text, return_tensors=\"pt\")\n",
        "    logits = model(**inputs)\n",
        "    predicted_class_id = logits.logits.argmax().item()\n",
        "    test_preds.append(id2label[predicted_class_id])"
      ],
      "metadata": {
        "id": "Dk_vRbNnvo8R"
      },
      "execution_count": null,
      "outputs": []
    },
    {
      "cell_type": "code",
      "source": [
        "import seaborn as sns\n",
        "import matplotlib.pyplot as plt\n",
        "from sklearn.metrics import confusion_matrix\n",
        "\n",
        "train_conf_mat = confusion_matrix(labels_train, train_preds)\n",
        "test_conf_mat = confusion_matrix(labels_test, test_preds)\n",
        "\n",
        "labels = list(label2id.keys())\n",
        "\n",
        "fig, ax = plt.subplots(1, 2, figsize=(20, 8))\n",
        "\n",
        "sns.heatmap(train_conf_mat, annot=True, fmt='d',cmap='Spectral', xticklabels=labels, yticklabels=labels, ax=ax[0])\n",
        "ax[0].set_title(\"Train Confusion Matrix\")\n",
        "ax[0].set_ylabel(\"Actual Label\")\n",
        "ax[0].set_xlabel(\"Predicted Label\")\n",
        "\n",
        "sns.heatmap(test_conf_mat, annot=True, fmt='d',cmap='Spectral', xticklabels=labels, yticklabels=labels, ax=ax[1])\n",
        "ax[1].set_title(\"Test Confusion Matrix\")\n",
        "ax[1].set_ylabel(\"Actual Label\")\n",
        "ax[1].set_xlabel(\"Predicted Label\")\n",
        "\n",
        "plt.show()"
      ],
      "metadata": {
        "id": "VU3uThSRzMND"
      },
      "execution_count": null,
      "outputs": []
    },
    {
      "cell_type": "code",
      "source": [
        "from sklearn.metrics import fbeta_score\n",
        "\n",
        "train_f2_score = fbeta_score(labels_train, train_preds, beta=2, average='micro')\n",
        "test_f2_score = fbeta_score(labels_test, test_preds, beta=2, average='micro')\n",
        "\n",
        "print(\"Train F2 Score: \", train_f2_score)\n",
        "print(\"Test F2 Score: \", test_f2_score)"
      ],
      "metadata": {
        "id": "m_oWCTV50M_y"
      },
      "execution_count": null,
      "outputs": []
    },
    {
      "cell_type": "code",
      "source": [
        "from sklearn.metrics import classification_report\n",
        "\n",
        "train_report = classification_report(labels_train, train_preds, target_names=labels, digits=3)\n",
        "test_report = classification_report(labels_test, test_preds, target_names=labels, digits=3)\n",
        "\n",
        "print(\"Train Classification Report: \")\n",
        "print(train_report)\n",
        "\n",
        "print(\"\\nTest Classification Report: \")\n",
        "print(test_report)"
      ],
      "metadata": {
        "id": "_rMZqkvD0REY"
      },
      "execution_count": null,
      "outputs": []
    },
    {
      "cell_type": "code",
      "source": [
        "!pip install transformers evaluate"
      ],
      "metadata": {
        "id": "LTBHgAQT0kw4"
      },
      "execution_count": null,
      "outputs": []
    },
    {
      "cell_type": "code",
      "source": [
        "import pandas as pd\n",
        "from tqdm import tqdm\n",
        "\n",
        "data = pd.read_csv('/content/all-data.csv', encoding='latin-1', header=None)\n",
        "data.columns = [\"labels\", \"text\"]\n",
        "data"
      ],
      "metadata": {
        "id": "TGn7dl6F02pv"
      },
      "execution_count": null,
      "outputs": []
    },
    {
      "cell_type": "code",
      "source": [
        "from transformers import AutoTokenizer\n",
        "from sklearn.model_selection import train_test_split\n",
        "from transformers import DataCollatorWithPadding\n",
        "import evaluate\n",
        "import numpy as np\n",
        "from transformers import AutoModelForSequenceClassification, TrainingArguments, Trainer\n",
        "import torch\n",
        "\n",
        "accuracy = evaluate.load(\"accuracy\")\n",
        "\n",
        "tokenizer = AutoTokenizer.from_pretrained(\"distilbert-base-uncased\")\n",
        "model = AutoModelForSequenceClassification.from_pretrained(\n",
        "    \"distilbert-base-uncased\", num_labels=3, # id2label=id2label, label2id=label2id\n",
        ")\n",
        "data_collator = DataCollatorWithPadding(tokenizer=tokenizer)\n",
        "\n",
        "def preprocess_function(examples):\n",
        "    return tokenizer(examples, truncation=True)\n",
        "\n",
        "texts = data[\"text\"].to_list()\n",
        "labels = data[\"labels\"].to_list()\n",
        "text_train, text_test, labels_train, labels_test = train_test_split(\n",
        "    texts, labels, test_size=0.25, random_state=42,\n",
        ")\n",
        "tokenized_text_train = preprocess_function(text_train)\n",
        "tokenized_text_test = preprocess_function(text_test)\n",
        "\n",
        "print(\"train size:\", len(labels_train))\n",
        "print(\"test size:\", len(labels_test))\n",
        "\n",
        "\n",
        "def compute_metrics(eval_pred):\n",
        "    predictions, labels = eval_pred\n",
        "    predictions = np.argmax(predictions, axis=1)\n",
        "    return accuracy.compute(predictions=predictions, references=labels)\n",
        "\n",
        "id2label = {0: \"positive\", 1: \"neutral\", 2: \"negative\"}\n",
        "label2id = {\"positive\": 0, \"neutral\": 1, \"negative\": 2}\n",
        "\n",
        "class BertDataset(torch.utils.data.Dataset):\n",
        "    def __init__(self, encodings, labels, label2id):\n",
        "        self.encodings = encodings\n",
        "        self.labels = [label2id[value] for value in labels]\n",
        "\n",
        "    def __getitem__(self, idx):\n",
        "        item = {key: torch.tensor(val[idx]) for key, val in self.encodings.items()}\n",
        "        item['labels'] = torch.tensor(self.labels[idx])\n",
        "        return item\n",
        "\n",
        "    def __len__(self):\n",
        "        return len(self.labels)\n",
        "\n",
        "train_dataset = BertDataset(tokenized_text_train, labels_train, label2id)\n",
        "test_dataset = BertDataset(tokenized_text_test, labels_test, label2id)"
      ],
      "metadata": {
        "id": "RVEpxAN31RGV"
      },
      "execution_count": null,
      "outputs": []
    },
    {
      "cell_type": "code",
      "source": [
        "training_args = TrainingArguments(\n",
        "    output_dir=\"my_awesome_model\",\n",
        "    learning_rate=2e-5,\n",
        "    per_device_train_batch_size=16,\n",
        "    per_device_eval_batch_size=16,\n",
        "    num_train_epochs=2,\n",
        "    weight_decay=0.01,\n",
        "    evaluation_strategy=\"epoch\",\n",
        "    save_strategy=\"epoch\",\n",
        "    load_best_model_at_end=True,\n",
        "    push_to_hub=False,\n",
        "    report_to=\"none\"\n",
        ")\n",
        "\n",
        "trainer = Trainer(\n",
        "    model=model,\n",
        "    args=training_args,\n",
        "    train_dataset=train_dataset,\n",
        "    eval_dataset=test_dataset,\n",
        "    tokenizer=tokenizer,\n",
        "    data_collator=data_collator,\n",
        "    compute_metrics=compute_metrics,\n",
        ")\n",
        "trainer.train()\n",
        "model = trainer.model"
      ],
      "metadata": {
        "id": "ZlXfm26D1YTT"
      },
      "execution_count": null,
      "outputs": []
    },
    {
      "cell_type": "code",
      "source": [
        "train_preds = []\n",
        "for text in tqdm(text_train):\n",
        "    inputs = tokenizer(text, return_tensors=\"pt\")\n",
        "    logits = model(**inputs)\n",
        "    predicted_class_id = logits.logits.argmax().item()\n",
        "    train_preds.append(id2label[predicted_class_id])\n",
        "\n",
        "test_preds = []\n",
        "for text in tqdm(text_test):\n",
        "    inputs = tokenizer(text, return_tensors=\"pt\")\n",
        "    logits = model(**inputs)\n",
        "    predicted_class_id = logits.logits.argmax().item()\n",
        "    test_preds.append(id2label[predicted_class_id])"
      ],
      "metadata": {
        "id": "DLagq91fEaQI"
      },
      "execution_count": null,
      "outputs": []
    },
    {
      "cell_type": "code",
      "source": [
        "import seaborn as sns\n",
        "import matplotlib.pyplot as plt\n",
        "from sklearn.metrics import confusion_matrix\n",
        "\n",
        "train_conf_mat = confusion_matrix(labels_train, train_preds)\n",
        "test_conf_mat = confusion_matrix(labels_test, test_preds)\n",
        "\n",
        "labels = list(label2id.keys())\n",
        "\n",
        "fig, ax = plt.subplots(1, 2, figsize=(20, 8))\n",
        "\n",
        "sns.heatmap(train_conf_mat, annot=True, fmt='d',cmap='Spectral', xticklabels=labels, yticklabels=labels, ax=ax[0])\n",
        "ax[0].set_title(\"Train Confusion Matrix\")\n",
        "ax[0].set_ylabel(\"Actual Label\")\n",
        "ax[0].set_xlabel(\"Predicted Label\")\n",
        "\n",
        "sns.heatmap(test_conf_mat, annot=True, fmt='d',cmap='Spectral', xticklabels=labels, yticklabels=labels, ax=ax[1])\n",
        "ax[1].set_title(\"Test Confusion Matrix\")\n",
        "ax[1].set_ylabel(\"Actual Label\")\n",
        "ax[1].set_xlabel(\"Predicted Label\")\n",
        "\n",
        "plt.show()\n"
      ],
      "metadata": {
        "id": "JWUhIvyGGeoe"
      },
      "execution_count": null,
      "outputs": []
    },
    {
      "cell_type": "code",
      "source": [
        "from sklearn.metrics import fbeta_score\n",
        "\n",
        "train_f2_score = fbeta_score(labels_train, train_preds, beta=2, average='micro')\n",
        "test_f2_score = fbeta_score(labels_test, test_preds, beta=2, average='micro')\n",
        "\n",
        "print(\"Train F2 Score: \", train_f2_score)\n",
        "print(\"Test F2 Score: \", test_f2_score)"
      ],
      "metadata": {
        "id": "i-FxPgYrGzyY"
      },
      "execution_count": null,
      "outputs": []
    },
    {
      "cell_type": "code",
      "source": [
        "from sklearn.metrics import classification_report\n",
        "\n",
        "train_report = classification_report(labels_train, train_preds, target_names=labels, digits=3)\n",
        "test_report = classification_report(labels_test, test_preds, target_names=labels, digits=3)\n",
        "\n",
        "print(\"Train Classification Report: \")\n",
        "print(train_report)\n",
        "\n",
        "print(\"\\nTest Classification Report: \")\n",
        "print(test_report)"
      ],
      "metadata": {
        "id": "yS_fmvqeG2ca"
      },
      "execution_count": null,
      "outputs": []
    },
    {
      "cell_type": "code",
      "source": [
        "#bert\n",
        "from transformers import AutoTokenizer\n",
        "from sklearn.model_selection import train_test_split\n",
        "from transformers import DataCollatorWithPadding\n",
        "import evaluate\n",
        "import numpy as np\n",
        "from transformers import AutoModelForSequenceClassification, TrainingArguments, Trainer\n",
        "import torch\n",
        "\n",
        "accuracy = evaluate.load(\"accuracy\")\n",
        "\n",
        "tokenizer = AutoTokenizer.from_pretrained(\"YituTech/conv-bert-base\")\n",
        "model = AutoModelForSequenceClassification.from_pretrained(\n",
        "    \"YituTech/conv-bert-base\", num_labels=3, # id2label=id2label, label2id=label2id\n",
        ")\n",
        "data_collator = DataCollatorWithPadding(tokenizer=tokenizer)\n",
        "\n",
        "def preprocess_function(examples):\n",
        "    return tokenizer(examples, truncation=True)\n",
        "\n",
        "texts = data[\"text\"].to_list()\n",
        "labels = data[\"labels\"].to_list()\n",
        "text_train, text_test, labels_train, labels_test = train_test_split(\n",
        "    texts, labels, test_size=0.25, random_state=42,\n",
        ")\n",
        "tokenized_text_train = preprocess_function(text_train)\n",
        "tokenized_text_test = preprocess_function(text_test)\n",
        "\n",
        "print(\"train size:\", len(labels_train))\n",
        "print(\"test size:\", len(labels_test))\n",
        "\n",
        "\n",
        "def compute_metrics(eval_pred):\n",
        "    predictions, labels = eval_pred\n",
        "    predictions = np.argmax(predictions, axis=1)\n",
        "    return accuracy.compute(predictions=predictions, references=labels)\n",
        "\n",
        "id2label = {0: \"positive\", 1: \"neutral\", 2: \"negative\"}\n",
        "label2id = {\"positive\": 0, \"neutral\": 1, \"negative\": 2}\n",
        "\n",
        "class BertDataset(torch.utils.data.Dataset):\n",
        "    def __init__(self, encodings, labels, label2id):\n",
        "        self.encodings = encodings\n",
        "        self.labels = [label2id[value] for value in labels]\n",
        "\n",
        "    def __getitem__(self, idx):\n",
        "        item = {key: torch.tensor(val[idx]) for key, val in self.encodings.items()}\n",
        "        item['labels'] = torch.tensor(self.labels[idx])\n",
        "        return item\n",
        "\n",
        "    def __len__(self):\n",
        "        return len(self.labels)\n",
        "\n",
        "train_dataset = BertDataset(tokenized_text_train, labels_train, label2id)\n",
        "test_dataset = BertDataset(tokenized_text_test, labels_test, label2id)"
      ],
      "metadata": {
        "id": "gtS0tXnJHnlP"
      },
      "execution_count": null,
      "outputs": []
    },
    {
      "cell_type": "code",
      "source": [
        "training_args = TrainingArguments(\n",
        "    output_dir=\"my_awesome_model\",\n",
        "    learning_rate=2e-5,\n",
        "    per_device_train_batch_size=16,\n",
        "    per_device_eval_batch_size=16,\n",
        "    num_train_epochs=2,\n",
        "    weight_decay=0.01,\n",
        "    evaluation_strategy=\"epoch\",\n",
        "    save_strategy=\"epoch\",\n",
        "    load_best_model_at_end=True,\n",
        "    push_to_hub=False,\n",
        "    report_to=\"none\"\n",
        ")\n",
        "\n",
        "trainer = Trainer(\n",
        "    model=model,\n",
        "    args=training_args,\n",
        "    train_dataset=train_dataset,\n",
        "    eval_dataset=test_dataset,\n",
        "    tokenizer=tokenizer,\n",
        "    data_collator=data_collator,\n",
        "    compute_metrics=compute_metrics,\n",
        ")\n",
        "trainer.train()\n",
        "model = trainer.model"
      ],
      "metadata": {
        "id": "CcOpsNKGHtXu"
      },
      "execution_count": null,
      "outputs": []
    },
    {
      "cell_type": "code",
      "source": [
        "import seaborn as sns\n",
        "import matplotlib.pyplot as plt\n",
        "from sklearn.metrics import confusion_matrix\n",
        "\n",
        "train_conf_mat = confusion_matrix(labels_train, train_preds)\n",
        "test_conf_mat = confusion_matrix(labels_test, test_preds)\n",
        "\n",
        "labels = list(label2id.keys())\n",
        "\n",
        "fig, ax = plt.subplots(1, 2, figsize=(20, 8))\n",
        "\n",
        "sns.heatmap(train_conf_mat, annot=True, fmt='d', cmap='Spectral', xticklabels=labels, yticklabels=labels, ax=ax[0])\n",
        "ax[0].set_title(\"Train Confusion Matrix\")\n",
        "ax[0].set_ylabel(\"Actual Label\")\n",
        "ax[0].set_xlabel(\"Predicted Label\")\n",
        "\n",
        "sns.heatmap(test_conf_mat, annot=True, fmt='d',cmap='Spectral', xticklabels=labels, yticklabels=labels, ax=ax[1])\n",
        "ax[1].set_title(\"Test Confusion Matrix\")\n",
        "ax[1].set_ylabel(\"Actual Label\")\n",
        "ax[1].set_xlabel(\"Predicted Label\")\n",
        "\n",
        "plt.show()"
      ],
      "metadata": {
        "id": "uqDT5Xf0fcmJ"
      },
      "execution_count": null,
      "outputs": []
    },
    {
      "cell_type": "code",
      "source": [
        "from sklearn.metrics import fbeta_score\n",
        "\n",
        "train_f2_score = fbeta_score(labels_train, train_preds, beta=2, average='micro')\n",
        "test_f2_score = fbeta_score(labels_test, test_preds, beta=2, average='micro')\n",
        "\n",
        "print(\"Train F2 Score: \", train_f2_score)\n",
        "print(\"Test F2 Score: \", test_f2_score)"
      ],
      "metadata": {
        "id": "fr8noaz0fpV-"
      },
      "execution_count": null,
      "outputs": []
    },
    {
      "cell_type": "code",
      "source": [
        "from sklearn.metrics import classification_report\n",
        "\n",
        "train_report = classification_report(labels_train, train_preds, target_names=labels, digits=3)\n",
        "test_report = classification_report(labels_test, test_preds, target_names=labels, digits=3)\n",
        "\n",
        "print(\"Train Classification Report: \")\n",
        "print(train_report)\n",
        "\n",
        "print(\"\\nTest Classification Report: \")\n",
        "print(test_report)"
      ],
      "metadata": {
        "id": "QZ-1mwTQfwNb"
      },
      "execution_count": null,
      "outputs": []
    }
  ]
}